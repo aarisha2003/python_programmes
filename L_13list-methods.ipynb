{
 "cells": [
  {
   "cell_type": "code",
   "execution_count": 7,
   "metadata": {},
   "outputs": [
    {
     "name": "stdout",
     "output_type": "stream",
     "text": [
      "['pen', 'penclie', 'earser', 'paint', 'copy']\n",
      "['pen', 'penclie', 'earser', 'paint', 'copy', [1, 2, 3, 4]]\n",
      "2\n"
     ]
    }
   ],
   "source": [
    "my_list=['pen','penclie','earser','paint']\n",
    "my_list.append('copy')\n",
    "print(my_list)\n",
    "mylist2=[1,2,3,4]\n",
    "my_list.append(mylist2)\n",
    "print(my_list)\n",
    "print(my_list[5][1])"
   ]
  },
  {
   "cell_type": "code",
   "execution_count": 8,
   "metadata": {},
   "outputs": [
    {
     "name": "stdout",
     "output_type": "stream",
     "text": [
      "[]\n"
     ]
    }
   ],
   "source": [
    "my_list=['pen','penclie','earser','paint']\n",
    "my_list.clear()\n",
    "print(my_list)"
   ]
  },
  {
   "cell_type": "code",
   "execution_count": null,
   "metadata": {},
   "outputs": [],
   "source": [
    "my_list=['pen','penclie','earser','paint']\n"
   ]
  },
  {
   "cell_type": "code",
   "execution_count": null,
   "metadata": {},
   "outputs": [],
   "source": [
    "fixe"
   ]
  }
 ],
 "metadata": {
  "kernelspec": {
   "display_name": "Python 3",
   "language": "python",
   "name": "python3"
  },
  "language_info": {
   "codemirror_mode": {
    "name": "ipython",
    "version": 3
   },
   "file_extension": ".py",
   "mimetype": "text/x-python",
   "name": "python",
   "nbconvert_exporter": "python",
   "pygments_lexer": "ipython3",
   "version": "3.12.2"
  }
 },
 "nbformat": 4,
 "nbformat_minor": 2
}
