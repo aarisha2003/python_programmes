{
 "cells": [
  {
   "cell_type": "code",
   "execution_count": 4,
   "metadata": {},
   "outputs": [
    {
     "name": "stdout",
     "output_type": "stream",
     "text": [
      "20 * 1 = 20\n",
      "20 * 2 = 40\n",
      "20 * 3 = 60\n",
      "20 * 4 = 80\n",
      "20 * 5 = 100\n",
      "20 * 6 = 120\n",
      "20 * 7 = 140\n",
      "20 * 8 = 160\n",
      "20 * 9 = 180\n",
      "20 * 10 = 200\n"
     ]
    }
   ],
   "source": [
    "table=int(input('enter any number for table'))\n",
    "for i in range(1,11):\n",
    "    print(table,'*',i,'=',table*i)"
   ]
  },
  {
   "cell_type": "code",
   "execution_count": 5,
   "metadata": {},
   "outputs": [
    {
     "name": "stdout",
     "output_type": "stream",
     "text": [
      "sachin\n"
     ]
    }
   ],
   "source": [
    "name=input('enter your name')\n",
    "print(name)"
   ]
  },
  {
   "cell_type": "code",
   "execution_count": 1,
   "metadata": {
    "metadata": {}
   },
   "outputs": [
    {
     "name": "stdout",
     "output_type": "stream",
     "text": [
      "unsufficient balance\n",
      "500 debit amount and the total balance in your acc is 5500\n"
     ]
    }
   ],
   "source": [
    "balance_amount=5000\n",
    "credit_amount =int(input())\n",
    "current_balance1=balance_amount-credit_amount\n",
    "\n",
    "if credit_amount >=0 and credit_amount <=5000:\n",
    "    print(credit_amount,'credit amount and total balance  in your acc is',current_balance1)\n",
    "else:\n",
    "     print('unsufficient balance')\n",
    "\n",
    "balance_amount=current_balance1\n",
    "debit_amount = int(input())\n",
    "current_balance=balance_amount+debit_amount\n",
    "if credit_amount >5000:\n",
    "    print(debit_amount,'debit amount and the total balance in your acc is',5000+debit_amount)\n",
    "\n",
    "else:\n",
    "    print(debit_amount,'debit amount and total balance  in your acc is',current_balance)\n",
    "\n",
    "\n",
    "\n",
    "\n",
    "\n",
    "\n",
    "\n",
    "\n",
    "\n",
    "\n",
    "\n"
   ]
  },
  {
   "cell_type": "code",
   "execution_count": 20,
   "metadata": {},
   "outputs": [
    {
     "name": "stdout",
     "output_type": "stream",
     "text": [
      "1505\n",
      "1540\n",
      "1575\n",
      "1610\n",
      "1645\n",
      "1680\n",
      "1715\n",
      "1750\n",
      "1785\n",
      "1820\n",
      "1855\n",
      "1890\n",
      "1925\n",
      "1960\n",
      "1995\n",
      "2030\n",
      "2065\n",
      "2100\n",
      "2135\n",
      "2170\n",
      "2205\n",
      "2240\n",
      "2275\n",
      "2310\n",
      "2345\n",
      "2380\n",
      "2415\n",
      "2450\n",
      "2485\n",
      "2520\n",
      "2555\n",
      "2590\n",
      "2625\n",
      "2660\n",
      "2695\n"
     ]
    }
   ],
   "source": [
    "#conditional pratice question\n",
    "# ques1. Write a Python program to find those numbers which are divisible by 7 and multiples of 5, between 1500 and 2700 (both included).\n",
    "\n",
    "for n in range(1500,2700):\n",
    "    if n/35 == int(n/35):\n",
    "        print(n)\n",
    "    \n",
    "    \n",
    "\n",
    "    \n",
    "\n",
    "    \n",
    "    \n",
    "    "
   ]
  },
  {
   "cell_type": "code",
   "execution_count": null,
   "metadata": {},
   "outputs": [],
   "source": []
  },
  {
   "cell_type": "code",
   "execution_count": 5,
   "metadata": {},
   "outputs": [
    {
     "name": "stdout",
     "output_type": "stream",
     "text": [
      "7.222222222222222\n",
      "140.0\n"
     ]
    }
   ],
   "source": [
    "#2. Write a Python program to convert temperatures to and from Celsius and Fahrenheit.\n",
    "#[ Formula : c/5 =-32/9 [ where c = temperature in celsius and f = temperature in fahrenheit ]\n",
    "#Expected Output :\n",
    "#60°C is 140 in Fahrenheit\n",
    "#45°F is 7 in Celsius\n",
    "c=60\n",
    "f=45\n",
    "\n",
    "celsius=(f-32)*5/9\n",
    "def far_to_c(f):\n",
    "    c=(f-32)*5/9\n",
    "    return c\n",
    "a=far_to_c(45)  \n",
    "print(a)\n",
    "\n",
    "def cel_to_f(c):\n",
    "    f=(9*c+160)/5\n",
    "    return f\n",
    "r=cel_to_f(60) \n",
    "print(r)  \n",
    "\n",
    "\n",
    "\n",
    "\n"
   ]
  },
  {
   "cell_type": "code",
   "execution_count": 1,
   "metadata": {},
   "outputs": [
    {
     "name": "stdout",
     "output_type": "stream",
     "text": [
      "guess the no again\n",
      "well guessed\n"
     ]
    }
   ],
   "source": [
    "#3. Write a Python program to guess a number between 1 and 9.\n",
    "# Note : User is prompted to enter a guess. If the user guesses wrong then the prompt appears again until the guess is correct, on successful guess, user will get a \n",
    "# \"Well guessed!\" message, and the program will exit.\n",
    "correct_guess='5'\n",
    "guess_input=''\n",
    "while correct_guess != guess_input:\n",
    "    guess_input= input('guess the no:')\n",
    "    if correct_guess== guess_input:\n",
    "        print('well guessed')\n",
    "    else:\n",
    "        print('guess the no again')    \n"
   ]
  },
  {
   "cell_type": "code",
   "execution_count": 2,
   "metadata": {},
   "outputs": [
    {
     "name": "stdout",
     "output_type": "stream",
     "text": [
      "* \n",
      "* * \n",
      "* * * \n",
      "* * * * \n",
      "* * * * * \n",
      "* * * * * * \n",
      "* * * * * \n",
      "* * * * \n",
      "* * * \n",
      "* * \n",
      "* \n"
     ]
    }
   ],
   "source": [
    "# 4. Write a Python program to construct the following pattern, using a nested for loop.\n",
    "\n",
    "# * \n",
    "# * * \n",
    "# * * * \n",
    "# * * * * \n",
    "# * * * * * \n",
    "# * * * * \n",
    "# * * * \n",
    "# * * \n",
    "# *\n",
    "for i in range(0,6):\n",
    "    for a in range(i+1):\n",
    "        print('*', end=' ') \n",
    "    print() \n",
    "for c in range(5,0,-1):\n",
    "    for b in range(c):\n",
    "        print('*',end=' ') \n",
    "    print()    \n"
   ]
  },
  {
   "cell_type": "code",
   "execution_count": 16,
   "metadata": {},
   "outputs": [
    {
     "name": "stdout",
     "output_type": "stream",
     "text": [
      "['sachin', 'is']\n",
      "['is', 'sachin']\n"
     ]
    }
   ],
   "source": [
    "#Write a Python program that accepts a word from the user and reverses it.\n",
    "string=[input(''),input('')]\n",
    "print(string)\n",
    "string.reverse()\n",
    "print(string)\n",
    "\n",
    "\n",
    "\n"
   ]
  },
  {
   "cell_type": "code",
   "execution_count": 1,
   "metadata": {},
   "outputs": [
    {
     "name": "stdout",
     "output_type": "stream",
     "text": [
      "2\n",
      "14\n",
      "6\n",
      "8\n",
      "4\n"
     ]
    }
   ],
   "source": [
    "# 6. Write a Python program to count the number of even and odd numbers in a series of numbers\n",
    "# Sample numbers : numbers = (1, 2, 3, 4, 5, 6, 7, 8, 9) \n",
    "# Expected Output :\n",
    "# Number of even numbers : 5\n",
    "# Number of odd numbers : 4\n",
    "count=0\n",
    "numbers = [1, 2,13,14, 5, 6, 7, 8, 9]\n",
    "for i in numbers:\n",
    "     if i%2==0:\n",
    "          print(i)\n",
    "          count=count+1\n",
    "print(count)\n",
    "\n"
   ]
  },
  {
   "cell_type": "code",
   "execution_count": 12,
   "metadata": {},
   "outputs": [
    {
     "name": "stdout",
     "output_type": "stream",
     "text": [
      "0 \n",
      "0 1 \n",
      "0 1 2 \n",
      "0 1 2 3 \n"
     ]
    }
   ],
   "source": [
    "for i in range(0,4):\n",
    "    for j in range(i+1):\n",
    "        print(j,end=' ')\n",
    "\n",
    "    print()\n",
    "    "
   ]
  },
  {
   "cell_type": "code",
   "execution_count": 17,
   "metadata": {},
   "outputs": [
    {
     "name": "stdout",
     "output_type": "stream",
     "text": [
      "0 1 2 3 4 \n",
      "0 1 2 3 \n",
      "0 1 2 \n",
      "0 1 \n",
      "0 \n"
     ]
    }
   ],
   "source": [
    "for i in range(5,0,-1):\n",
    "    for j in range(i):\n",
    "        print(j,end=' ')   \n",
    "    print()          "
   ]
  },
  {
   "cell_type": "code",
   "execution_count": 22,
   "metadata": {},
   "outputs": [
    {
     "name": "stdout",
     "output_type": "stream",
     "text": [
      "1 2 3 \n",
      "1 2 \n",
      "1 \n",
      "\n"
     ]
    }
   ],
   "source": [
    "for i in range(4,0,-1):\n",
    "    for j in range(1,i):\n",
    "        print(j,end=' ')   \n",
    "    print() "
   ]
  },
  {
   "cell_type": "code",
   "execution_count": 71,
   "metadata": {},
   "outputs": [
    {
     "name": "stdout",
     "output_type": "stream",
     "text": [
      "1 2 3 4 \n",
      "5 6 7 \n",
      "8 9 \n",
      "10 \n"
     ]
    }
   ],
   "source": [
    "number=1\n",
    "for i in range(4,0,-1):\n",
    "    for j in range(i):\n",
    "        print(number,end=' ')\n",
    "        #number+=1\n",
    "        number=number+1\n",
    "    print()    \n",
    "        \n",
    "  \n",
    "\n",
    "\n",
    "\n",
    "\n",
    "  "
   ]
  },
  {
   "cell_type": "code",
   "execution_count": 4,
   "metadata": {},
   "outputs": [
    {
     "name": "stdout",
     "output_type": "stream",
     "text": [
      "5 5 5 5 5 \n",
      "5 5 5 5 \n",
      "5 5 5 \n",
      "5 5 \n",
      "5 \n"
     ]
    }
   ],
   "source": [
    "for i in range(5,0,-1):\n",
    "    for j in range(i):\n",
    "        print(5,end=' ')\n",
    "    print()    "
   ]
  },
  {
   "cell_type": "code",
   "execution_count": 7,
   "metadata": {},
   "outputs": [
    {
     "name": "stdout",
     "output_type": "stream",
     "text": [
      "\n",
      "1 \n",
      "1 2 \n",
      "1 2 3 \n",
      "1 2 3 4 \n",
      "1 2 3 4 5 \n"
     ]
    }
   ],
   "source": [
    "for i in range(1,7):\n",
    "    for j in range(1,i):\n",
    "        print(j,end=' ')\n",
    "    print()    "
   ]
  },
  {
   "cell_type": "code",
   "execution_count": 24,
   "metadata": {},
   "outputs": [
    {
     "name": "stdout",
     "output_type": "stream",
     "text": [
      "1 \n",
      "2 2 \n",
      "3 3 3 \n",
      "4 4 4 4 \n",
      "5 5 5 5 5 \n"
     ]
    }
   ],
   "source": [
    "num=1\n",
    "a=1\n",
    "for i in range(1,6):\n",
    "    for j in range(num,i+1):\n",
    "        num=(num+1)\n",
    "        for b in range (j*a):\n",
    "            print(j,end=' ')\n",
    "    print()    \n",
    "       "
   ]
  },
  {
   "cell_type": "code",
   "execution_count": 32,
   "metadata": {},
   "outputs": [
    {
     "name": "stdout",
     "output_type": "stream",
     "text": [
      "5 5 5 5 5 \n",
      "4 4 4 4 \n",
      "3 3 3 \n",
      "2 2 \n",
      "1 \n"
     ]
    }
   ],
   "source": [
    "\n",
    "for i in range(5,0,-1):\n",
    "    for j in range(i):\n",
    "        print(i,end=' ')\n",
    "    print()    \n"
   ]
  },
  {
   "cell_type": "code",
   "execution_count": 35,
   "metadata": {},
   "outputs": [
    {
     "name": "stdout",
     "output_type": "stream",
     "text": [
      "1 \n",
      "2 2 \n",
      "3 3 3 \n",
      "4 4 4 4 \n",
      "5 5 5 5 5 \n"
     ]
    }
   ],
   "source": [
    "for i in range(1,6,1):\n",
    "    for j in range(i):\n",
    "        print(i,end=' ')\n",
    "    print()\n"
   ]
  },
  {
   "cell_type": "code",
   "execution_count": 17,
   "metadata": {},
   "outputs": [
    {
     "name": "stdout",
     "output_type": "stream",
     "text": [
      "my list: [1, 3, 2, 4, 6, 5, 7, 8, 9, 10]\n",
      "even no in list: [10, 8, 6, 4, 2]\n",
      "[2, 4, 6, 8, 10]\n"
     ]
    }
   ],
   "source": [
    "\n",
    "even_number=[ ]\n",
    "myset=[int(input()),int(input()),int(input()),int(input()),int(input()),int(input()),int(input()),int(input()),int(input()),int(input())]\n",
    "print('my list:',myset)\n",
    "for i in myset:\n",
    "    if i%2==0:\n",
    "        even_number.insert(0,i)    \n",
    "print('even no. in  my list:',even_number)  \n",
    "even_number.sort()  \n",
    "print(even_number)        \n"
   ]
  },
  {
   "cell_type": "code",
   "execution_count": 1,
   "metadata": {},
   "outputs": [
    {
     "name": "stdout",
     "output_type": "stream",
     "text": [
      "Initial balance: 100\n",
      "Added balance: 1000.0\n",
      "New main balance: 1100.0\n",
      "Insufficient funds!\n",
      "Insufficient funds!\n",
      "Final main balance: 1100.0\n"
     ]
    }
   ],
   "source": [
    "balance = 100\n",
    "\n",
    "print(f\"Initial balance: {balance}\")\n",
    "\n",
    "credit_amount = float(input(\"Enter amount to credit: \"))\n",
    "balance += credit_amount\n",
    "print(f\"Added balance: {credit_amount}\")\n",
    "print(f\"New main balance: {balance}\")\n",
    "\n",
    "debit_amount = float(input(\"Enter amount to debit: \"))\n",
    "if debit_amount > balance:\n",
    "    print(\"Insufficient funds!\")\n",
    "else:\n",
    "    balance -= debit_amount\n",
    "    print(f\"Subtracted balance: {debit_amount}\")\n",
    "    print(f\"New main balance: {balance}\")\n",
    "\n",
    "debit_amount = float(input(\"Enter another amount to debit: \"))\n",
    "if debit_amount > balance:\n",
    "    print(\"Insufficient funds!\")\n",
    "else:\n",
    "    balance -= debit_amount\n",
    "    print(f\"Subtracted balance: {debit_amount}\")\n",
    "    print(f\"New main balance: {balance}\")\n",
    "\n",
    "print(f\"Final main balance: {balance}\")"
   ]
  },
  {
   "cell_type": "code",
   "execution_count": 2,
   "metadata": {},
   "outputs": [
    {
     "name": "stdout",
     "output_type": "stream",
     "text": [
      "Initial balance: 1000\n",
      "Invalid transaction type.\n",
      "New main balance: 1000\n",
      "Invalid transaction type.\n",
      "New main balance: 1000\n",
      "Final main balance: 1000\n"
     ]
    }
   ],
   "source": [
    "balance = 1000\n",
    "\n",
    "print(f\"Initial balance: {balance}\")\n",
    "num_transactions = int(input(\"Enter the number of transactions: \"))\n",
    "\n",
    "for _ in range(num_transactions):\n",
    "    transaction_type = input(\"Enter 'credit' to add balance or 'debit' to subtract balance: \").strip().lower()\n",
    "    if transaction_type == 'credit':\n",
    "        credit_amount = float(input(\"Enter amount to credit: \"))\n",
    "        balance += credit_amount\n",
    "        print(f\"Added balance: {credit_amount}\")\n",
    "    elif transaction_type == 'debit':\n",
    "        debit_amount = float(input(\"Enter amount to debit: \"))\n",
    "        if debit_amount > balance:\n",
    "            print(\"Insufficient funds!\")\n",
    "        else:\n",
    "            balance -= debit_amount\n",
    "            print(f\"Subtracted balance: {debit_amount}\")\n",
    "    else:\n",
    "        print(\"Invalid transaction type.\")\n",
    "    print(f\"New main balance: {balance}\")\n",
    "\n",
    "print(f\"Final main balance: {balance}\")\n"
   ]
  },
  {
   "cell_type": "code",
   "execution_count": 1,
   "metadata": {},
   "outputs": [
    {
     "ename": "NameError",
     "evalue": "name 'number' is not defined",
     "output_type": "error",
     "traceback": [
      "\u001b[1;31m---------------------------------------------------------------------------\u001b[0m",
      "\u001b[1;31mNameError\u001b[0m                                 Traceback (most recent call last)",
      "Cell \u001b[1;32mIn[1], line 9\u001b[0m\n\u001b[0;32m      7\u001b[0m     \u001b[38;5;28;01melse\u001b[39;00m:c \n\u001b[0;32m      8\u001b[0m     \u001b[38;5;28;01mreturn\u001b[39;00m maximum\n\u001b[1;32m----> 9\u001b[0m \u001b[43mnumber\u001b[49m(\u001b[38;5;241m10\u001b[39m,\u001b[38;5;241m11\u001b[39m,\u001b[38;5;241m9\u001b[39m)           \n",
      "\u001b[1;31mNameError\u001b[0m: name 'number' is not defined"
     ]
    }
   ],
   "source": [
    "#1. Write a Python function to find the maximum of three numbers.\n",
    "def numbers(a,b,c):\n",
    "    if a>=b and a>=c:\n",
    "        maximum=a\n",
    "    elif b>=a and a>=c:\n",
    "        maximum=b\n",
    "    else:c \n",
    "    return maximum\n",
    "number(10,11,9)           "
   ]
  },
  {
   "cell_type": "code",
   "execution_count": null,
   "metadata": {},
   "outputs": [],
   "source": []
  },
  {
   "cell_type": "code",
   "execution_count": null,
   "metadata": {},
   "outputs": [],
   "source": []
  },
  {
   "cell_type": "code",
   "execution_count": null,
   "metadata": {},
   "outputs": [],
   "source": []
  },
  {
   "cell_type": "code",
   "execution_count": null,
   "metadata": {},
   "outputs": [],
   "source": []
  },
  {
   "cell_type": "code",
   "execution_count": null,
   "metadata": {},
   "outputs": [],
   "source": []
  },
  {
   "cell_type": "code",
   "execution_count": null,
   "metadata": {},
   "outputs": [],
   "source": []
  }
 ],
 "metadata": {
  "kernelspec": {
   "display_name": "Python 3",
   "language": "python",
   "name": "python3"
  },
  "language_info": {
   "codemirror_mode": {
    "name": "ipython",
    "version": 3
   },
   "file_extension": ".py",
   "mimetype": "text/x-python",
   "name": "python",
   "nbconvert_exporter": "python",
   "pygments_lexer": "ipython3",
   "version": "3.12.2"
  }
 },
 "nbformat": 4,
 "nbformat_minor": 2
}
