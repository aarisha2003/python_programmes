{
 "cells": [
  {
   "cell_type": "code",
   "execution_count": 1,
   "metadata": {},
   "outputs": [],
   "source": [
    "#pre define function example= \n",
    "#string function =str()\n",
    "#print function= print()\n",
    "#int function= int()\n",
    "#float fuction=float()\n",
    "#boolean function=boolean()\n",
    "#input function=input()\n",
    "#user define function=\n"
   ]
  },
  {
   "cell_type": "code",
   "execution_count": 2,
   "metadata": {
    "metadata": {}
   },
   "outputs": [
    {
     "data": {
      "text/plain": [
       "10"
      ]
     },
     "execution_count": 2,
     "metadata": {},
     "output_type": "execute_result"
    }
   ],
   "source": [
    "#user define function\n",
    "def addition(a,b):#a and b are the two parameter\n",
    "    result=a+b\n",
    "    return result\n",
    "\n",
    "addition(3,7)#3 and 7 are 2 arguments passed in addition function\n"
   ]
  },
  {
   "cell_type": "code",
   "execution_count": 4,
   "metadata": {
    "metadata": {}
   },
   "outputs": [
    {
     "data": {
      "text/plain": [
       "31"
      ]
     },
     "execution_count": 4,
     "metadata": {},
     "output_type": "execute_result"
    }
   ],
   "source": [
    "\n",
    "#addition(11,20)\n",
    "def addition(a,b):\n",
    "    result=a+b\n",
    "    return result\n",
    "\n",
    "addition(11,20)   \n"
   ]
  },
  {
   "cell_type": "code",
   "execution_count": 4,
   "metadata": {
    "metadata": {}
   },
   "outputs": [],
   "source": [
    "def substraction(a,b):\n",
    "    result1=a-b\n",
    "    return result1\n",
    "\n",
    "user_input1=int(input('enter 1st no.'))\n",
    "user_input2=int(input('enter 2nd no.'))\n",
    "substraction(user_input1,user_input2)     "
   ]
  },
  {
   "cell_type": "code",
   "execution_count": 1,
   "metadata": {
    "metadata": {}
   },
   "outputs": [
    {
     "name": "stdout",
     "output_type": "stream",
     "text": [
      "the user name is sachin\n"
     ]
    }
   ],
   "source": [
    "def information(name):\n",
    "    result=name\n",
    "    return result\n",
    "\n",
    "user_name=input('enter your name:')\n",
    "print('the user name is',user_name)\n"
   ]
  },
  {
   "cell_type": "code",
   "execution_count": 7,
   "metadata": {},
   "outputs": [
    {
     "name": "stdout",
     "output_type": "stream",
     "text": [
      "the user name is aarisha\n"
     ]
    }
   ],
   "source": [
    " def information(name):\n",
    "    result=name\n",
    "    return result\n",
    "\n",
    "user_name=input('enter your name:')\n",
    "info=user_name\n",
    "print('the user name is',info)"
   ]
  },
  {
   "cell_type": "code",
   "execution_count": 12,
   "metadata": {},
   "outputs": [
    {
     "data": {
      "text/plain": [
       "3000"
      ]
     },
     "execution_count": 12,
     "metadata": {},
     "output_type": "execute_result"
    }
   ],
   "source": [
    "def atm(fixed_amont,credit):\n",
    "    result=(fixed_amont-credit)\n",
    "    return result\n",
    "\n",
    "atm(5000,2000)\n"
   ]
  }
 ],
 "metadata": {
  "kernelspec": {
   "display_name": "Python 3",
   "language": "python",
   "name": "python3"
  },
  "language_info": {
   "codemirror_mode": {
    "name": "ipython",
    "version": 3
   },
   "file_extension": ".py",
   "mimetype": "text/x-python",
   "name": "python",
   "nbconvert_exporter": "python",
   "pygments_lexer": "ipython3",
   "version": "3.12.2"
  }
 },
 "nbformat": 4,
 "nbformat_minor": 2
}
