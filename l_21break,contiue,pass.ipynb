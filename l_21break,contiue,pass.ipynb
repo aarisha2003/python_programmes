{
 "cells": [
  {
   "cell_type": "code",
   "execution_count": 5,
   "metadata": {},
   "outputs": [
    {
     "name": "stdout",
     "output_type": "stream",
     "text": [
      "loop end\n",
      "60000\n"
     ]
    },
    {
     "data": {
      "text/plain": [
       "60000"
      ]
     },
     "execution_count": 5,
     "metadata": {},
     "output_type": "execute_result"
    }
   ],
   "source": [
    "#pass keyword-The pass statement is used as a placeholder for future code\n",
    "for i in range(1,11):\n",
    "    pass\n",
    "\n",
    "print('loop end')  \n",
    "def salary(amount):\n",
    "    main_balance=50000+amount\n",
    "    print(main_balance)  \n",
    "    return main_balance\n",
    "\n",
    "def attendence(student):\n",
    "    pass\n",
    "salary(10000)   \n",
    " "
   ]
  },
  {
   "cell_type": "code",
   "execution_count": 2,
   "metadata": {},
   "outputs": [
    {
     "name": "stdout",
     "output_type": "stream",
     "text": [
      "1\n",
      "2\n",
      "3\n",
      "4\n",
      "break statemen exiquited\n",
      "loop end\n"
     ]
    }
   ],
   "source": [
    "#break keyword -'Break' in Python is a loop control statement.\n",
    "# It is used to control the sequence of the loop.\n",
    "for a in range(1,11):\n",
    "    print(a)\n",
    "    if a==4:\n",
    "        print('break statemen exiquited')\n",
    "        break\n",
    "\n",
    "print('loop end')    "
   ]
  },
  {
   "cell_type": "code",
   "execution_count": 12,
   "metadata": {},
   "outputs": [
    {
     "name": "stdout",
     "output_type": "stream",
     "text": [
      "1\n",
      "2\n",
      "3\n",
      "continue statement exiquited\n",
      "5\n",
      "6\n",
      "7\n",
      "8\n",
      "9\n",
      "10\n",
      "loop end\n"
     ]
    }
   ],
   "source": [
    "#contiune used to skip the remaining code inside a loop for \n",
    "# the current iteration only\n",
    "for a in range(1,11):\n",
    "    if a==4:\n",
    "        print('continue statement exiquited')\n",
    "        continue\n",
    "    print(a)\n",
    "\n",
    "print('loop end')       \n"
   ]
  }
 ],
 "metadata": {
  "kernelspec": {
   "display_name": "Python 3",
   "language": "python",
   "name": "python3"
  },
  "language_info": {
   "codemirror_mode": {
    "name": "ipython",
    "version": 3
   },
   "file_extension": ".py",
   "mimetype": "text/x-python",
   "name": "python",
   "nbconvert_exporter": "python",
   "pygments_lexer": "ipython3",
   "version": "3.12.2"
  }
 },
 "nbformat": 4,
 "nbformat_minor": 2
}
