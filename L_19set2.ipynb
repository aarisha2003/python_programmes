{
 "cells": [
  {
   "cell_type": "code",
   "execution_count": 10,
   "metadata": {},
   "outputs": [
    {
     "name": "stdout",
     "output_type": "stream",
     "text": [
      "{56, 1, 98, 90}\n",
      "{56, 1, 90}\n",
      "{1, 90}\n",
      "{1, 90}\n"
     ]
    }
   ],
   "source": [
    "myset={1,56,98,90}\n",
    "print(myset)\n",
    "myset.remove(98)\n",
    "print(myset)\n",
    "myset.discard(56)\n",
    "myset.discard(57)\n",
    "print(myset)\n",
    "#myset.remove(57)\n",
    "print(myset)\n",
    "#discard=don't show error\n",
    "#remove = show error\n",
    "\n"
   ]
  },
  {
   "cell_type": "code",
   "execution_count": 11,
   "metadata": {},
   "outputs": [
    {
     "name": "stdout",
     "output_type": "stream",
     "text": [
      "1 90 "
     ]
    }
   ],
   "source": [
    " #bug=error in program\n",
    " #debug=remove bug\n",
    " for i in myset:\n",
    "    print(i,end=' ')"
   ]
  },
  {
   "cell_type": "code",
   "execution_count": 18,
   "metadata": {},
   "outputs": [
    {
     "name": "stdout",
     "output_type": "stream",
     "text": [
      "{100, 'apple', 'mango', 40, 60, 'banana'}\n",
      "{100, 'apple', 'mango', 40, 60, 'banana'}\n"
     ]
    }
   ],
   "source": [
    "fruits={'apple','banana','mango'}\n",
    "prices={100,40,60}\n",
    "myset2=fruits.union(prices)\n",
    "print(myset2)\n",
    "myset3=fruits|prices\n",
    "print(myset3)\n",
    "\n",
    "\n"
   ]
  },
  {
   "cell_type": "code",
   "execution_count": 19,
   "metadata": {},
   "outputs": [
    {
     "name": "stdout",
     "output_type": "stream",
     "text": [
      "{1, 2, 3, 4, 'b', 'a', 'c'}\n"
     ]
    }
   ],
   "source": [
    "set1={1,2,3,4}\n",
    "set2={'a','b','c','c'}\n",
    "set1.update(set2)\n",
    "print(set1)\n",
    "#union and set both discard duplicate values"
   ]
  },
  {
   "cell_type": "code",
   "execution_count": 21,
   "metadata": {},
   "outputs": [
    {
     "name": "stdout",
     "output_type": "stream",
     "text": [
      "{56, 'pineapple', 20, 'banana'}\n",
      "{56, 'pineapple', 20, 'banana'}\n"
     ]
    }
   ],
   "source": [
    "set1={'apple','banana','pineapple',56,20}\n",
    "set2={20,40,40,56,20,'banana','pineapple'}\n",
    "set3=set1.intersection(set2)\n",
    "print(set3)\n",
    "set4=set2&set1\n",
    "print(set4)\n"
   ]
  }
 ],
 "metadata": {
  "kernelspec": {
   "display_name": "Python 3",
   "language": "python",
   "name": "python3"
  },
  "language_info": {
   "codemirror_mode": {
    "name": "ipython",
    "version": 3
   },
   "file_extension": ".py",
   "mimetype": "text/x-python",
   "name": "python",
   "nbconvert_exporter": "python",
   "pygments_lexer": "ipython3",
   "version": "3.12.2"
  }
 },
 "nbformat": 4,
 "nbformat_minor": 2
}
