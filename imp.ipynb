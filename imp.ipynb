{
 "cells": [
  {
   "cell_type": "code",
   "execution_count": null,
   "metadata": {},
   "outputs": [],
   "source": [
    "# f string\n",
    "name = \"Riya\"\n",
    "age = 20\n",
    "print(\"my name is raj and age is 28\")\n",
    "print(f\"my name is {name} and age is {age}\")\n",
    "print(\"my name is:\",name,\"my age is:\", age)\n",
    "oops"
   ]
  },
  {
   "cell_type": "code",
   "execution_count": null,
   "metadata": {},
   "outputs": [],
   "source": [
    "#strip.()\n",
    "\n",
    " "
   ]
  }
 ],
 "metadata": {
  "language_info": {
   "name": "python"
  }
 },
 "nbformat": 4,
 "nbformat_minor": 2
}
