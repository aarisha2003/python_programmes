{
 "cells": [
  {
   "cell_type": "code",
   "execution_count": 4,
   "metadata": {},
   "outputs": [
    {
     "name": "stdout",
     "output_type": "stream",
     "text": [
      "A cell phone simplifies our lives. It serves for work or business, online classes, entertainment, and communication with friends and family. Nowadays, smartphones come with various handy features and fast internet, making it easy to access information promptly.\n"
     ]
    }
   ],
   "source": [
    "file=open('notepad.txt','r')\n",
    "# r-reading mode\n",
    "# a-append\n",
    "# w-write(can do changes)\n",
    "# b-binary file\n",
    "# t-txt file(by default)\n",
    "\n",
    "\n",
    "print(file.read())\n"
   ]
  }
 ],
 "metadata": {
  "kernelspec": {
   "display_name": "Python 3",
   "language": "python",
   "name": "python3"
  },
  "language_info": {
   "codemirror_mode": {
    "name": "ipython",
    "version": 3
   },
   "file_extension": ".py",
   "mimetype": "text/x-python",
   "name": "python",
   "nbconvert_exporter": "python",
   "pygments_lexer": "ipython3",
   "version": "3.12.2"
  }
 },
 "nbformat": 4,
 "nbformat_minor": 2
}
