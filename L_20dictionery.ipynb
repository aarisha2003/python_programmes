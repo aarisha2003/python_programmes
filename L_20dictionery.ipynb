{
 "cells": [
  {
   "cell_type": "code",
   "execution_count": 2,
   "metadata": {},
   "outputs": [
    {
     "name": "stdout",
     "output_type": "stream",
     "text": [
      "{1: 'computer', 2: 'laptop', 3: 'laptop'}\n"
     ]
    }
   ],
   "source": [
    "#dictionery= dictionery is a data structure that stores values in key:value pairs \n",
    "#dictionery variable = {key1:value1,key2:value2,..........}\n",
    "#only take unqiue keys after python 3.7\n",
    "mydict={1:'computer',2:'laptop',3:'printer',3:'laptop'}\n",
    "print(mydict)"
   ]
  },
  {
   "cell_type": "code",
   "execution_count": 1,
   "metadata": {},
   "outputs": [
    {
     "name": "stdout",
     "output_type": "stream",
     "text": [
      "<class 'dict'>\n",
      "{1: 'apple', 2: 'banana'}\n",
      "{}\n"
     ]
    }
   ],
   "source": [
    "#different way to create python dictionery\n",
    "mydict1={}#empty dictionery\n",
    "print(type(mydict1))\n",
    "mydict2=dict([(1,'apple'),(2,'banana')])\n",
    "print(mydict2)\n",
    "print(mydict1)\n"
   ]
  },
  {
   "cell_type": "code",
   "execution_count": 8,
   "metadata": {},
   "outputs": [
    {
     "name": "stdout",
     "output_type": "stream",
     "text": [
      "{0: 'balloon', 1: 'cake', 'name': 'abc'}\n"
     ]
    }
   ],
   "source": [
    "#adding the item in the dictionery\n",
    "mydict1[0]='balloon'\n",
    "mydict1[1]='cake'\n",
    "mydict1['name']='abc'\n",
    "print(mydict1)"
   ]
  },
  {
   "cell_type": "code",
   "execution_count": 2,
   "metadata": {},
   "outputs": [
    {
     "name": "stdout",
     "output_type": "stream",
     "text": [
      "{'food item': {'price': 'item name', 100: 'rice', 200: 'wheat'}}\n",
      "item name\n"
     ]
    }
   ],
   "source": [
    "#nested dictionery\n",
    "food_dict={'food item': \n",
    "            {'price':'item name',\n",
    "                100:'rice',\n",
    "                200:'wheat'}\n",
    "                }\n",
    "print(food_dict)\n",
    "# accessing dictionery items(access using name)\n",
    "print(food_dict['food item']['price'])\n",
    "#print(food_dict['price'])\n",
    "\n"
   ]
  },
  {
   "cell_type": "code",
   "execution_count": 9,
   "metadata": {},
   "outputs": [
    {
     "name": "stdout",
     "output_type": "stream",
     "text": [
      "{2: 'meta', 3: 'snapchat', 4: 'whatsapp'}\n"
     ]
    }
   ],
   "source": [
    "#deleting the items in dictionery\n",
    "dict1={1:'truecaller',2:'meta',3:'snapchat',4:'whatsapp'}\n",
    "del(dict1[1])\n",
    "print(dict1)\n"
   ]
  },
  {
   "cell_type": "code",
   "execution_count": 10,
   "metadata": {},
   "outputs": [
    {
     "name": "stdout",
     "output_type": "stream",
     "text": [
      "2\n",
      "3\n",
      "4\n"
     ]
    }
   ],
   "source": [
    "#looping on dictionery\n",
    "for items in dict1:\n",
    "    print(items)\n",
    "    "
   ]
  },
  {
   "cell_type": "code",
   "execution_count": 13,
   "metadata": {},
   "outputs": [
    {
     "name": "stdout",
     "output_type": "stream",
     "text": [
      "meta\n",
      "snapchat\n",
      "whatsapp\n"
     ]
    }
   ],
   "source": [
    "for  items in dict1.values():\n",
    "    print(items)"
   ]
  },
  {
   "cell_type": "code",
   "execution_count": 16,
   "metadata": {},
   "outputs": [
    {
     "name": "stdout",
     "output_type": "stream",
     "text": [
      "2\n",
      "3\n",
      "4\n"
     ]
    }
   ],
   "source": [
    "for items in dict1.keys():\n",
    "    print(items)"
   ]
  },
  {
   "cell_type": "code",
   "execution_count": 8,
   "metadata": {},
   "outputs": [
    {
     "name": "stdout",
     "output_type": "stream",
     "text": [
      "2 meta\n",
      "3 snapchat\n",
      "4 whatsapp\n"
     ]
    }
   ],
   "source": [
    "for key,values in dict1.items():\n",
    "    print(key,values)"
   ]
  },
  {
   "cell_type": "code",
   "execution_count": 9,
   "metadata": {},
   "outputs": [
    {
     "name": "stdout",
     "output_type": "stream",
     "text": [
      "{2: 'meta', 3: 'snapchat', 4: 'whatsapp'}\n"
     ]
    }
   ],
   "source": [
    "#copy dictionery\n",
    "dict2=dict1.copy()\n",
    "print(dict2)"
   ]
  },
  {
   "cell_type": "code",
   "execution_count": 16,
   "metadata": {},
   "outputs": [
    {
     "name": "stdout",
     "output_type": "stream",
     "text": [
      "2002\n"
     ]
    }
   ],
   "source": [
    "my_family={\n",
    "    'sumit':{\n",
    "        'email' :'sumit@gmail.com' ,\n",
    "        'dob' :2013\n",
    "    },\n",
    "    'durgesh':{\n",
    "        'email':'durgesh@gmail.com',\n",
    "        'dob':1990\n",
    "    },\n",
    "    'abhishek':{\n",
    "        'email':'abhishek@gamil.com',\n",
    "        'dob':2002\n",
    "    }\n",
    "\n",
    "}\n",
    "print(my_family['abhishek']['dob'])"
   ]
  },
  {
   "cell_type": "code",
   "execution_count": 1,
   "metadata": {},
   "outputs": [
    {
     "name": "stdout",
     "output_type": "stream",
     "text": [
      "!welcome to demart!\n",
      "item category :-\n",
      "#stationery_item\n",
      "#clothing_item\n",
      "#footwear_item\n",
      "#grocery_item\n",
      "#haircare_and_skincare_item\n",
      "choose item from the section\n",
      "#stationery_item {'item': 'price', 'highlighter': 20, 'pens': 10, 'sticky_notes': 40, 'notebook': 50, 'calculator': 100, 'paperclip': 5, 'floders': 20, 'geometry box': 70, 'earser': 4, 'pencile': 2}\n",
      "#clothing_item {'item': 'price', 'shirt': 1500, 't_shirt': 1000, 'skirt': 900, 'jacket': 2000, 'pant': 1150, 'trouser': 800, 'cap': 200, 'tie': 100, 'hoodie': 1200, 'jeans': 2500}\n",
      "#footwear_item {'item': 'price', 'sport_shoe': 3500, 'heel': 1500, 'slipper': 500, 'boot': 1000, 'flip_flop': 1200, 'clog': 1800, 'sneaker': 2500, 'sandal': 700, 'loofer': 1100, 'platforms': 900}\n",
      "#grocery_item {'item': 'price', 'apple': 100, 'butter': 50, 'coconut': 60, 'cinnamon': 77, 'tomatoes': 40, 'rice': 200, 'olive oil': 300, 'baking soda': 90, 'eggs': 60, 'oats': 120}\n",
      "#haircare_and_skincare_item {'item': 'price', 'tonner': 400, 'serum': 350, 'moisturizer': 500, 'lipstick': 300, 'tint': 290, 'eyeliner': 150, 'sunscream': 450, 'lipblam': 220, 'samphoo': 550, 'conditioner': 350}\n",
      "add items in the cart\n",
      "[('pens', 'shirt', 'boot', 'butter', 'tonner')]\n",
      "prices of the item: (10, 1500, 1000, 50, 400)\n",
      "total amount: 2960\n",
      "dicount:10%\n",
      "actual amount after 10 percent discount to be paid : 2664.0\n"
     ]
    }
   ],
   "source": [
    "#demart mall system\n",
    "print('!welcome to demart!')\n",
    "item_sections={\n",
    "    '#stationery_item':{\n",
    "                'item':'price',\n",
    "                'highlighter':20,\n",
    "                'pens':10,\n",
    "                'sticky_notes':40,\n",
    "                'notebook':50,\n",
    "                'calculator':100,\n",
    "                'paperclip':5,\n",
    "                'floders':20,\n",
    "                'geometry box':70,\n",
    "                'earser':4,\n",
    "                'pencile':2          \n",
    "\n",
    "    },\n",
    "    '#clothing_item':{\n",
    "                'item':'price',\n",
    "                'shirt': 1500,\n",
    "                't_shirt':1000,\n",
    "                'skirt':900,\n",
    "                'jacket':2000,\n",
    "                'pant':1150,\n",
    "                'trouser':800,\n",
    "                'cap':200,\n",
    "                'tie':100,\n",
    "                'hoodie':1200,\n",
    "                'jeans':2500\n",
    "\n",
    "    },\n",
    "    '#footwear_item':{\n",
    "                'item':'price',\n",
    "                'sport_shoe':3500,\n",
    "                'heel':1500,\n",
    "                'slipper':500,\n",
    "                'boot':1000,\n",
    "                'flip_flop':1200,\n",
    "                'clog':1800,\n",
    "                'sneaker':2500,\n",
    "                'sandal':700,\n",
    "                'loofer':1100,\n",
    "                'platforms':900\n",
    "\n",
    "    },\n",
    "    '#grocery_item':{\n",
    "                'item':'price',\n",
    "                'apple':100,\n",
    "                'butter':50,\n",
    "                'coconut':60,\n",
    "                'cinnamon':77,\n",
    "                'tomatoes':40,\n",
    "                'rice':200,\n",
    "                'olive oil':300,\n",
    "                'baking soda':90,\n",
    "                'eggs':60,\n",
    "                'oats':120,\n",
    "\n",
    "    },\n",
    "    '#haircare_and_skincare_item':{\n",
    "                'item':'price',\n",
    "                'tonner':400,\n",
    "                'serum':350,\n",
    "                'moisturizer':500,\n",
    "                'lipstick':300,\n",
    "                'tint':290,\n",
    "                'eyeliner':150,\n",
    "                'sunscream':450,\n",
    "                'lipblam':220,\n",
    "                'samphoo':550,\n",
    "                'conditioner':350\n",
    "\n",
    "    }\n",
    "    }\n",
    "\n",
    "cart=[]    #items name\n",
    "counter=[]  #prices of the product\n",
    "print('item category :-')\n",
    "for item in item_sections:\n",
    "     print(item)\n",
    "print('choose item from the section')     \n",
    "for key,values in item_sections.items():\n",
    "    print(key,values)\n",
    "\n",
    "print('add items in the cart')    \n",
    "item=input('enter item name:') ,input('enter item name:'),input('enter item name:') ,input('enter item name:'),input('enter item name:') \n",
    "cart.append(item)  \n",
    "print(cart)\n",
    "prices=item_sections['#stationery_item'][input('enter item purchase:')],item_sections['#clothing_item'][input('enter item purchase:')],item_sections['#footwear_item'][input('enter item purchase:')],item_sections['#grocery_item'][input('enter item purchase:')],item_sections['#haircare_and_skincare_item'][input('enter item purchase:')]\n",
    "counter.append(prices)\n",
    "print('prices of the item:',prices)\n",
    "total_amount=prices[0]+prices[1]+prices[2]+prices[3]+prices[4]\n",
    "print('total amount:',total_amount)\n",
    "print('dicount:10%')\n",
    "discount=10\n",
    "actual_amount=total_amount*(100-discount)/100\n",
    "print('actual amount after 10 percent discount to be paid :',actual_amount)\n"
   ]
  },
  {
   "cell_type": "code",
   "execution_count": 25,
   "metadata": {},
   "outputs": [
    {
     "name": "stdout",
     "output_type": "stream",
     "text": [
      "10\n"
     ]
    }
   ],
   "source": [
    "print(item_sections['#stationery_item'][input()])"
   ]
  },
  {
   "cell_type": "code",
   "execution_count": null,
   "metadata": {},
   "outputs": [],
   "source": []
  }
 ],
 "metadata": {
  "kernelspec": {
   "display_name": "Python 3",
   "language": "python",
   "name": "python3"
  },
  "language_info": {
   "codemirror_mode": {
    "name": "ipython",
    "version": 3
   },
   "file_extension": ".py",
   "mimetype": "text/x-python",
   "name": "python",
   "nbconvert_exporter": "python",
   "pygments_lexer": "ipython3",
   "version": "3.12.2"
  }
 },
 "nbformat": 4,
 "nbformat_minor": 2
}
